{
 "cells": [
  {
   "cell_type": "code",
   "execution_count": null,
   "metadata": {},
   "outputs": [],
   "source": [
    "import hashlib\n",
    "def signup():\n",
    "    email = input(\" Enter email address:\")\n",
    "    pwd = input(\"Enter password: \")\n",
    "    conf_pwd = input(\"Confirm password:\" )\n",
    "    if conf_pwd == pwd:\n",
    "        enc = conf_pwd.encode()\n",
    "        hash1 = hashlib.md5(enc).hexdigest()\n",
    "        with open(\"credentials.txt\", \"w\") as f:\n",
    "             f.write(email + \"\\n\")\n",
    "             f.write(hash1)\n",
    "        f.close()\n",
    "        print(\"You have registered successfully!\")\n",
    "    else:\n",
    "        print(\"Password is not same as above! \\n\")\n",
    "def login():\n",
    "    email = input(\"Enter email: \")\n",
    "    pwd = input(\"Enter password: \")\n",
    "    auth = pwd.encode()\n",
    "    auth_hash = hashlib.md5(auth).hexdigest()\n",
    "    with open(\"credentials.txt\", \"r\") as f:\n",
    "        stored_email, stored_pwd = f.read().split(\"\\n\")\n",
    "    f.close()\n",
    "    if email == stored_email and auth_hash == stored_pwd:\n",
    "         print(\"Logged in Successfully!\")\n",
    "    else:\n",
    "         print(\"Login failed! \\n\")\n",
    "while 1:\n",
    "    print(\"********** Login System **********\")\n",
    "    print(\"1.Signup\")\n",
    "    print(\"2.Login\")\n",
    "    print(\"3.Exit\")\n",
    "    ch = int(input(\"Enter your choice: \"))\n",
    "    if ch == 1:\n",
    "        signup()\n",
    "    elif ch == 2:\n",
    "        login()\n",
    "    elif ch == 3:\n",
    "        break\n",
    "    else:\n",
    "        print(\"Wrong Choice!\")"
   ]
  }
 ],
 "metadata": {
  "language_info": {
   "name": "python"
  },
  "orig_nbformat": 4
 },
 "nbformat": 4,
 "nbformat_minor": 2
}
